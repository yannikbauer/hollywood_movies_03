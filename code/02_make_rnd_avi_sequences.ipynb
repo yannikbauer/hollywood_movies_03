{
 "cells": [
  {
   "cell_type": "markdown",
   "metadata": {},
   "source": [
    "# Hollywood Movies: Make random movie sequences"
   ]
  },
  {
   "cell_type": "markdown",
   "metadata": {},
   "source": [
    "Converts original .tiff sequence into one test and 10 pseudo-randomized .avi scene sequences.\n",
    "- test sequence:\n",
    "  - saves .tiff stack simply as \"../data/processed/hmov_test.avi\"\n",
    "- training sequence:\n",
    "  - makes 10 pseudo-random training sequences from the 288 training scenes\n",
    "    - scene order array (288x10) saved in \"..data/processed/RandomSequences.txt\"\n",
    "  - splits each random sequence into 8 parts and save as each part as \"../data/processed/hmov_train_[seq#]_[part#].avi\""
   ]
  },
  {
   "cell_type": "markdown",
   "metadata": {},
   "source": [
    "## TODO: \n",
    "- save single scene files\n",
    "- give unique names test and training part files (expo full file name char limit: 18)"
   ]
  },
  {
   "cell_type": "markdown",
   "metadata": {},
   "source": [
    "## Setup"
   ]
  },
  {
   "cell_type": "code",
   "execution_count": 1,
   "metadata": {},
   "outputs": [],
   "source": [
    "# Import libraries\n",
    "import numpy as np\n",
    "import imageio\n",
    "import cv2\n",
    "import seaborn as sns\n",
    "import matplotlib.pyplot as plt\n",
    "from datetime import datetime\n",
    "import json\n",
    "\n",
    "# Custom module\n",
    "from utils import load_tiffs_into_array, histogram_equalization"
   ]
  },
  {
   "cell_type": "code",
   "execution_count": 2,
   "metadata": {},
   "outputs": [
    {
     "name": "stdout",
     "output_type": "stream",
     "text": [
      "fps = 30 \n",
      "scene_dur = 5 \n",
      "n_parts = 8 \n",
      "n_rand_sequs = 10\n"
     ]
    }
   ],
   "source": [
    "# Set parameters\n",
    "n_rnd_seqs = 10 # decide on a number of random training sequences\n",
    "\n",
    "# Get other parameters from meta data file\n",
    "with open('../data/processed/hmovTrainMeta.json', 'r') as f:\n",
    "    meta = json.load(f)\n",
    "\n",
    "fps = meta['general']['fps'] # frames per second\n",
    "scene_dur = meta['general']['scene_dur_sec'] # scene duration (s)\n",
    "n_parts = meta['general']['n_parts_train'] # number of parts to split train seq into (see above)\n",
    "\n",
    "print('fps = %i \\nscene_dur = %i \\nn_parts = %i \\nn_rand_sequs = %i'\n",
    "      %(fps, scene_dur, n_parts, n_rnd_seqs))"
   ]
  },
  {
   "cell_type": "markdown",
   "metadata": {},
   "source": [
    "## Load histogram equalized test movie scene sequence"
   ]
  },
  {
   "cell_type": "code",
   "execution_count": 3,
   "metadata": {},
   "outputs": [
    {
     "name": "stderr",
     "output_type": "stream",
     "text": [
      "/Users/Yannik/anaconda3/lib/python3.6/site-packages/imageio/plugins/_tifffile.py:7285: UserWarning: module 'imageio.plugins._tifffile' has no attribute 'decode_packbits'\n",
      "  Functionality might be degraded or be slow.\n",
      "\n",
      "  warnings.warn(\"%s%s\" % (e, warn))\n",
      "/Users/Yannik/anaconda3/lib/python3.6/site-packages/imageio/plugins/_tifffile.py:7285: UserWarning: module 'imageio.plugins._tifffile' has no attribute 'decode_lzw'\n",
      "  Functionality might be degraded or be slow.\n",
      "\n",
      "  warnings.warn(\"%s%s\" % (e, warn))\n",
      "/Users/Yannik/anaconda3/lib/python3.6/site-packages/imageio/plugins/_tifffile.py:7285: UserWarning: module 'imageio.plugins._tifffile' has no attribute 'unpack_ints'\n",
      "  Functionality might be degraded or be slow.\n",
      "\n",
      "  warnings.warn(\"%s%s\" % (e, warn))\n",
      "/Users/Yannik/anaconda3/lib/python3.6/site-packages/imageio/plugins/_tifffile.py:7285: UserWarning: module 'imageio.plugins._tifffile' has no attribute 'reverse_bitorder'\n",
      "  Functionality might be degraded or be slow.\n",
      "\n",
      "  warnings.warn(\"%s%s\" % (e, warn))\n"
     ]
    },
    {
     "name": "stdout",
     "output_type": "stream",
     "text": [
      "n_frames = 1200\n",
      "width = 424\n",
      "height = 264\n",
      "number of scenes = 8\n",
      "frames per scene = 150\n",
      "\n",
      "Putting tiff stack into array:\n",
      "........\n",
      "Duration: 0:00:00.405304\n"
     ]
    }
   ],
   "source": [
    "start_time = datetime.now() # time code execution\n",
    "\n",
    "fname = '../data/processed/hmovTest.tiff'\n",
    "test, test_meta = load_tiffs_into_array(fname, fps, scene_dur)\n",
    "\n",
    "print('\\nDuration: {}'.format(datetime.now() - start_time))"
   ]
  },
  {
   "cell_type": "code",
   "execution_count": 4,
   "metadata": {},
   "outputs": [
    {
     "data": {
      "image/png": "[encoded data removed]",
      "text/plain": [
       "<Figure size 432x288 with 10 Axes>"
      ]
     },
     "metadata": {
      "needs_background": "light"
     },
     "output_type": "display_data"
    }
   ],
   "source": [
    "# Show some random image frames\n",
    "rand_ind = np.random.choice(test_meta['n_frames'],10,replace=False)\n",
    "for i in range(10):\n",
    "    plt.subplot(2,5,i+1)\n",
    "    plt.imshow(test[rand_ind[i],:,:], vmin=0, vmax=255, cmap='gray')\n",
    "    plt.grid(False)\n",
    "plt.tight_layout()\n",
    "plt.show()"
   ]
  },
  {
   "cell_type": "markdown",
   "metadata": {},
   "source": [
    "## Write test video file"
   ]
  },
  {
   "cell_type": "code",
   "execution_count": 5,
   "metadata": {},
   "outputs": [],
   "source": [
    "fourcc = cv2.VideoWriter_fourcc(*'MJPG') # four-char code for desired codec (MJPG ok for avi on Mac)\n",
    "writer = cv2.VideoWriter('../data/processed/hmovTest.avi', fourcc, fps, \n",
    "                         (test_meta['width'], test_meta['height']), False)\n",
    "\n",
    "for i in range(test_meta['n_frames']):\n",
    "    writer.write(test[i,:,:])\n",
    "\n",
    "writer.release() "
   ]
  },
  {
   "cell_type": "markdown",
   "metadata": {},
   "source": [
    "## Load histogram equalized training movie scene sequence"
   ]
  },
  {
   "cell_type": "code",
   "execution_count": 6,
   "metadata": {},
   "outputs": [
    {
     "name": "stdout",
     "output_type": "stream",
     "text": [
      "n_frames = 43200\n",
      "width = 424\n",
      "height = 264\n",
      "number of scenes = 288\n",
      "frames per scene = 150\n",
      "\n",
      "Putting tiff stack into array:\n",
      "....................................\n",
      "....................................\n",
      "....................................\n",
      "....................................\n",
      "....................................\n",
      "....................................\n",
      "....................................\n",
      "....................................\n",
      "\n",
      "Duration: 0:00:20.521179\n"
     ]
    }
   ],
   "source": [
    "start_time = datetime.now() # time code execution\n",
    "\n",
    "fname = '../data/processed/hmovTrain.tiff'\n",
    "train, train_meta = load_tiffs_into_array(fname, fps, scene_dur)\n",
    "\n",
    "print('\\nDuration: {}'.format(datetime.now() - start_time))"
   ]
  },
  {
   "cell_type": "markdown",
   "metadata": {},
   "source": [
    "## Split sequence into scene snippets (5 s)"
   ]
  },
  {
   "cell_type": "code",
   "execution_count": 7,
   "metadata": {},
   "outputs": [
    {
     "name": "stdout",
     "output_type": "stream",
     "text": [
      "288 scenes, 150 frames per scene, 264x424 frames\n"
     ]
    }
   ],
   "source": [
    "train_scenes = np.reshape(train, (train_meta['n_scenes'], train_meta['fp_scene'],\n",
    "                                  train_meta['height'], train_meta['width']))\n",
    "print('%i scenes, %i frames per scene, %ix%i frames' % train_scenes.shape)"
   ]
  },
  {
   "cell_type": "markdown",
   "metadata": {},
   "source": [
    "## Get random sequence index file"
   ]
  },
  {
   "cell_type": "code",
   "execution_count": 8,
   "metadata": {},
   "outputs": [
    {
     "name": "stdout",
     "output_type": "stream",
     "text": [
      "Random sequence index for 288 scenes and 10 sequences.\n",
      "Example scene sequence:\n",
      " [131 253 146 283 100 251 193  10  90 160 181   5  97 194  53  49   9 285\n",
      "  19 147 123  51 166 269  60 138 271 162 101 119 141  50 185 273 281 228\n",
      " 152 188  77  40 261 257 226 216   0 109 144 219  94  65  89 167  30 220\n",
      "  47 174 108  64  20 112 159 263 164 148   8  16  48 110 124 264  55 145\n",
      "  84 179  78  13 177 178 149  32 158  95 128 195 196  27  31 125 153 114\n",
      " 106 238 105 250 135 134 270 272 187 274 243 278  56 232 155 224 258 190\n",
      " 116  68  33  72  93 150 129 204 275 121 236  34  71  63  98 222 165 210\n",
      " 266 230  44 282   3  57 202 239 248 214  92 143 186 127 191 245  38 111\n",
      " 247  82  52 122  81 205 173 212  25  91 102 163 240 172 256 201 211  87\n",
      "  18 237  14  45 115 198 267 184  29   1 118 218 286   7  73 234 254  99\n",
      " 284 157  85 132  35 180 136  39 208 252 227 223  36  70   6 209 197  11\n",
      " 140 262  23 260 176 117 221  74 171 233 130 235  26 113  79  15 161 103\n",
      " 246  61 276 168 151 249 229 182 241 231 217 170 255 213 175 268 156 200\n",
      " 169 280 183 265   2  76 192 287 189  28  88 225 126  22 199 215  46  58\n",
      "  37  41  21 203 277  59  67 242 142  54  43  66 154 120  62 133 104 139\n",
      "  69  17 107 206  96  12  86  80 244 279   4 259  75  42 137 207  83  24]\n"
     ]
    }
   ],
   "source": [
    "np.random.seed(345) # fix random seed\n",
    "\n",
    "random = np.tile(np.arange(train_meta['n_scenes']), (n_rnd_seqs,1)).T\n",
    "for i in range(random.shape[1]):\n",
    "    random[:,i] = np.random.permutation(random[:,i])\n",
    "random.shape\n",
    "\n",
    "# Save file\n",
    "np.savetxt('../data/processed/RandomSequences.txt', random, fmt='%u', delimiter='\\t')\n",
    "# random = np.loadtxt('../data/processed/RandomSequences.txt', dtype=np.int, delimiter='\\t')\n",
    "\n",
    "print('Random sequence index for %i scenes and %i sequences.' % random.shape)\n",
    "print('Example scene sequence:\\n', random[:,0])"
   ]
  },
  {
   "cell_type": "markdown",
   "metadata": {},
   "source": [
    "## Write training video files"
   ]
  },
  {
   "cell_type": "code",
   "execution_count": 10,
   "metadata": {},
   "outputs": [
    {
     "name": "stdout",
     "output_type": "stream",
     "text": [
      "Creating 10 random sequences.\n"
     ]
    }
   ],
   "source": [
    "print('Creating %i random sequences.' %n_rnd_seqs)"
   ]
  },
  {
   "cell_type": "code",
   "execution_count": 12,
   "metadata": {},
   "outputs": [
    {
     "name": "stdout",
     "output_type": "stream",
     "text": [
      "Creating random sequence 10/10:\n"
     ]
    }
   ],
   "source": [
    "print('Creating random sequence %i/%i:' %(i+1, n_rnd_seqs))"
   ]
  },
  {
   "cell_type": "code",
   "execution_count": 9,
   "metadata": {},
   "outputs": [
    {
     "name": "stdout",
     "output_type": "stream",
     "text": [
      "Creating random sequence: 1\n",
      " Splitting training sequence into 8 parts\n",
      "  Making video file: ../data/processed/hmovTrain_01-1.avi\n",
      "  Making video file: ../data/processed/hmovTrain_01-2.avi\n",
      "  Making video file: ../data/processed/hmovTrain_01-3.avi\n",
      "  Making video file: ../data/processed/hmovTrain_01-4.avi\n",
      "  Making video file: ../data/processed/hmovTrain_01-5.avi\n",
      "  Making video file: ../data/processed/hmovTrain_01-6.avi\n",
      "  Making video file: ../data/processed/hmovTrain_01-7.avi\n",
      "  Making video file: ../data/processed/hmovTrain_01-8.avi\n",
      "Creating random sequence: 2\n",
      " Splitting training sequence into 8 parts\n",
      "  Making video file: ../data/processed/hmovTrain_02-1.avi\n",
      "  Making video file: ../data/processed/hmovTrain_02-2.avi\n",
      "  Making video file: ../data/processed/hmovTrain_02-3.avi\n",
      "  Making video file: ../data/processed/hmovTrain_02-4.avi\n",
      "  Making video file: ../data/processed/hmovTrain_02-5.avi\n",
      "  Making video file: ../data/processed/hmovTrain_02-6.avi\n",
      "  Making video file: ../data/processed/hmovTrain_02-7.avi\n",
      "  Making video file: ../data/processed/hmovTrain_02-8.avi\n",
      "Creating random sequence: 3\n",
      " Splitting training sequence into 8 parts\n",
      "  Making video file: ../data/processed/hmovTrain_03-1.avi\n",
      "  Making video file: ../data/processed/hmovTrain_03-2.avi\n",
      "  Making video file: ../data/processed/hmovTrain_03-3.avi\n",
      "  Making video file: ../data/processed/hmovTrain_03-4.avi\n",
      "  Making video file: ../data/processed/hmovTrain_03-5.avi\n",
      "  Making video file: ../data/processed/hmovTrain_03-6.avi\n",
      "  Making video file: ../data/processed/hmovTrain_03-7.avi\n",
      "  Making video file: ../data/processed/hmovTrain_03-8.avi\n",
      "Creating random sequence: 4\n",
      " Splitting training sequence into 8 parts\n",
      "  Making video file: ../data/processed/hmovTrain_04-1.avi\n",
      "  Making video file: ../data/processed/hmovTrain_04-2.avi\n",
      "  Making video file: ../data/processed/hmovTrain_04-3.avi\n",
      "  Making video file: ../data/processed/hmovTrain_04-4.avi\n",
      "  Making video file: ../data/processed/hmovTrain_04-5.avi\n",
      "  Making video file: ../data/processed/hmovTrain_04-6.avi\n",
      "  Making video file: ../data/processed/hmovTrain_04-7.avi\n",
      "  Making video file: ../data/processed/hmovTrain_04-8.avi\n",
      "Creating random sequence: 5\n",
      " Splitting training sequence into 8 parts\n",
      "  Making video file: ../data/processed/hmovTrain_05-1.avi\n",
      "  Making video file: ../data/processed/hmovTrain_05-2.avi\n",
      "  Making video file: ../data/processed/hmovTrain_05-3.avi\n",
      "  Making video file: ../data/processed/hmovTrain_05-4.avi\n",
      "  Making video file: ../data/processed/hmovTrain_05-5.avi\n",
      "  Making video file: ../data/processed/hmovTrain_05-6.avi\n",
      "  Making video file: ../data/processed/hmovTrain_05-7.avi\n",
      "  Making video file: ../data/processed/hmovTrain_05-8.avi\n",
      "Creating random sequence: 6\n",
      " Splitting training sequence into 8 parts\n",
      "  Making video file: ../data/processed/hmovTrain_06-1.avi\n",
      "  Making video file: ../data/processed/hmovTrain_06-2.avi\n",
      "  Making video file: ../data/processed/hmovTrain_06-3.avi\n",
      "  Making video file: ../data/processed/hmovTrain_06-4.avi\n",
      "  Making video file: ../data/processed/hmovTrain_06-5.avi\n",
      "  Making video file: ../data/processed/hmovTrain_06-6.avi\n",
      "  Making video file: ../data/processed/hmovTrain_06-7.avi\n",
      "  Making video file: ../data/processed/hmovTrain_06-8.avi\n",
      "Creating random sequence: 7\n",
      " Splitting training sequence into 8 parts\n",
      "  Making video file: ../data/processed/hmovTrain_07-1.avi\n",
      "  Making video file: ../data/processed/hmovTrain_07-2.avi\n",
      "  Making video file: ../data/processed/hmovTrain_07-3.avi\n",
      "  Making video file: ../data/processed/hmovTrain_07-4.avi\n",
      "  Making video file: ../data/processed/hmovTrain_07-5.avi\n",
      "  Making video file: ../data/processed/hmovTrain_07-6.avi\n",
      "  Making video file: ../data/processed/hmovTrain_07-7.avi\n",
      "  Making video file: ../data/processed/hmovTrain_07-8.avi\n",
      "Creating random sequence: 8\n",
      " Splitting training sequence into 8 parts\n",
      "  Making video file: ../data/processed/hmovTrain_08-1.avi\n",
      "  Making video file: ../data/processed/hmovTrain_08-2.avi\n",
      "  Making video file: ../data/processed/hmovTrain_08-3.avi\n",
      "  Making video file: ../data/processed/hmovTrain_08-4.avi\n",
      "  Making video file: ../data/processed/hmovTrain_08-5.avi\n",
      "  Making video file: ../data/processed/hmovTrain_08-6.avi\n",
      "  Making video file: ../data/processed/hmovTrain_08-7.avi\n",
      "  Making video file: ../data/processed/hmovTrain_08-8.avi\n",
      "Creating random sequence: 9\n",
      " Splitting training sequence into 8 parts\n",
      "  Making video file: ../data/processed/hmovTrain_09-1.avi\n",
      "  Making video file: ../data/processed/hmovTrain_09-2.avi\n",
      "  Making video file: ../data/processed/hmovTrain_09-3.avi\n",
      "  Making video file: ../data/processed/hmovTrain_09-4.avi\n",
      "  Making video file: ../data/processed/hmovTrain_09-5.avi\n",
      "  Making video file: ../data/processed/hmovTrain_09-6.avi\n",
      "  Making video file: ../data/processed/hmovTrain_09-7.avi\n",
      "  Making video file: ../data/processed/hmovTrain_09-8.avi\n",
      "Creating random sequence: 10\n",
      " Splitting training sequence into 8 parts\n",
      "  Making video file: ../data/processed/hmovTrain_10-1.avi\n",
      "  Making video file: ../data/processed/hmovTrain_10-2.avi\n",
      "  Making video file: ../data/processed/hmovTrain_10-3.avi\n",
      "  Making video file: ../data/processed/hmovTrain_10-4.avi\n",
      "  Making video file: ../data/processed/hmovTrain_10-5.avi\n",
      "  Making video file: ../data/processed/hmovTrain_10-6.avi\n",
      "  Making video file: ../data/processed/hmovTrain_10-7.avi\n",
      "  Making video file: ../data/processed/hmovTrain_10-8.avi\n",
      "Duration: 0:11:28.277042\n"
     ]
    }
   ],
   "source": [
    "# Write one file for each random sequence, split into n parts.\n",
    "\n",
    "start_time = datetime.now() # time code execution\n",
    "\n",
    "print('Creating %i random sequences.' %n_rnd_seqs)\n",
    "for i in range(random.shape[1]):\n",
    "    print('Creating random sequence %i/%i:' %(i+1, n_rnd_seqs))\n",
    "    train_scenes_rand = train_scenes[list(random[:,i]),:,:,:]\n",
    "    train_scenes_rand = np.reshape(train_scenes_rand, \n",
    "                                   (train_meta['n_frames'],train_meta['height'],train_meta['width']))\n",
    "    \n",
    "    # Split into parts\n",
    "    parts = np.array_split(train_scenes_rand, n_parts)\n",
    "    print(' Splitting training sequence into %i parts:' %n_parts)\n",
    "        \n",
    "    for j, part in enumerate(parts):\n",
    "        # Make video (of each part)\n",
    "        fname = '../data/processed/' + 'hmovTrain_' + str(i+1).zfill(2) + '-' + str(j+1) + '.avi'\n",
    "        print('  Making video file:', fname)\n",
    "        fourcc = cv2.VideoWriter_fourcc(*'MJPG') # four-char code for codec (MJPG ok for avi on Mac)\n",
    "        writer = cv2.VideoWriter(fname, fourcc, fps, \n",
    "                                 (train_meta['width'], train_meta['height']), False)\n",
    "\n",
    "        for frame in part:\n",
    "            writer.write(frame)\n",
    "\n",
    "        writer.release()\n",
    "\n",
    "print('Duration: {}'.format(datetime.now() - start_time))"
   ]
  },
  {
   "cell_type": "code",
   "execution_count": null,
   "metadata": {},
   "outputs": [],
   "source": []
  }
 ],
 "metadata": {
  "kernelspec": {
   "display_name": "Python 3",
   "language": "python",
   "name": "python3"
  },
  "language_info": {
   "codemirror_mode": {
    "name": "ipython",
    "version": 3
   },
   "file_extension": ".py",
   "mimetype": "text/x-python",
   "name": "python",
   "nbconvert_exporter": "python",
   "pygments_lexer": "ipython3",
   "version": "3.6.7"
  }
 },
 "nbformat": 4,
 "nbformat_minor": 2
}
