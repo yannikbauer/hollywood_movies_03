{
 "cells": [
  {
   "cell_type": "markdown",
   "metadata": {},
   "source": [
    "# Hollywood Movies: Make random movie sequences"
   ]
  },
  {
   "cell_type": "markdown",
   "metadata": {},
   "source": [
    "1. Converts original .tiff sequence into one test and 10 pseudo-randomized .avi scene sequences.\n",
    " - test sequence:\n",
    "    - saves .tiff stack simply as \"../data/processed/hmov_test.avi\"\n",
    " - training sequence:\n",
    "    - makes 10 pseudo-random training sequences from the 288 training scenes\n",
    "      - scene order array (288x10) saved in \"..data/processed/RandomSequences.txt\"\n",
    "    - splits each random sequence into 8 parts and save as each part as \"../data/processed/hmov_train_[seq#]_[part#].avi\"\n",
    "    \n",
    "2. Also saves single test and training scene files in the end for insertion into database"
   ]
  },
  {
   "cell_type": "markdown",
   "metadata": {},
   "source": [
    "## TODO: \n",
    "- save single scene files\n",
    "- give unique names test and training part files (expo full file name char limit: 18) (make for new version 4?)"
   ]
  },
  {
   "cell_type": "markdown",
   "metadata": {},
   "source": [
    "## Setup"
   ]
  },
  {
   "cell_type": "code",
   "execution_count": 9,
   "metadata": {},
   "outputs": [],
   "source": [
    "# Import libraries\n",
    "import os\n",
    "import numpy as np\n",
    "import imageio\n",
    "import cv2\n",
    "import seaborn as sns\n",
    "import matplotlib.pyplot as plt\n",
    "from datetime import datetime\n",
    "import json\n",
    "\n",
    "# Custom module\n",
    "from utils import load_tiffs_into_array, histogram_equalization"
   ]
  },
  {
   "cell_type": "code",
   "execution_count": 2,
   "metadata": {},
   "outputs": [
    {
     "name": "stdout",
     "output_type": "stream",
     "text": [
      "version = 3 \n",
      "frame shape = 424x264 \n",
      "fps = 30 \n",
      "scene_dur = 5 \n",
      "n_parts = 8 \n",
      "n_rand_sequs = 10\n"
     ]
    }
   ],
   "source": [
    "# Set parameters\n",
    "n_rnd_seqs = 10 # decide on a number of random training sequences\n",
    "\n",
    "# Get other parameters from meta data file\n",
    "with open('../data/processed/meta/hmovTrainMeta.json', 'r') as f:\n",
    "    meta = json.load(f)\n",
    "\n",
    "version = meta['general']['version_num'] # version number\n",
    "frame_shape = meta['general']['frame_shape'] # movie frame width x height\n",
    "fps = meta['general']['fps'] # frames per second\n",
    "scene_dur = meta['general']['scene_dur_sec'] # scene duration (s)\n",
    "n_parts = meta['general']['n_parts_train'] # number of parts to split train seq into (see above)\n",
    "\n",
    "print('version = %i \\nframe shape = %ix%i \\nfps = %i \\nscene_dur = %i \\nn_parts = %i \\nn_rand_sequs = %i'\n",
    "      %(version, frame_shape[0], frame_shape[1], fps, scene_dur, n_parts, n_rnd_seqs))"
   ]
  },
  {
   "cell_type": "markdown",
   "metadata": {},
   "source": [
    "## Load test movie scene sequence"
   ]
  },
  {
   "cell_type": "code",
   "execution_count": 3,
   "metadata": {},
   "outputs": [
    {
     "name": "stdout",
     "output_type": "stream",
     "text": [
      "n_frames = 1200\n",
      "width = 424\n",
      "height = 264\n",
      "number of scenes = 8\n",
      "frames per scene = 150\n",
      "\n",
      "Putting tiff stack into array:\n",
      "."
     ]
    },
    {
     "name": "stderr",
     "output_type": "stream",
     "text": [
      "/Users/Yannik/anaconda3/lib/python3.6/site-packages/imageio/plugins/_tifffile.py:7285: UserWarning: module 'imageio.plugins._tifffile' has no attribute 'decode_packbits'\n",
      "  Functionality might be degraded or be slow.\n",
      "\n",
      "  warnings.warn(\"%s%s\" % (e, warn))\n",
      "/Users/Yannik/anaconda3/lib/python3.6/site-packages/imageio/plugins/_tifffile.py:7285: UserWarning: module 'imageio.plugins._tifffile' has no attribute 'decode_lzw'\n",
      "  Functionality might be degraded or be slow.\n",
      "\n",
      "  warnings.warn(\"%s%s\" % (e, warn))\n",
      "/Users/Yannik/anaconda3/lib/python3.6/site-packages/imageio/plugins/_tifffile.py:7285: UserWarning: module 'imageio.plugins._tifffile' has no attribute 'unpack_ints'\n",
      "  Functionality might be degraded or be slow.\n",
      "\n",
      "  warnings.warn(\"%s%s\" % (e, warn))\n",
      "/Users/Yannik/anaconda3/lib/python3.6/site-packages/imageio/plugins/_tifffile.py:7285: UserWarning: module 'imageio.plugins._tifffile' has no attribute 'reverse_bitorder'\n",
      "  Functionality might be degraded or be slow.\n",
      "\n",
      "  warnings.warn(\"%s%s\" % (e, warn))\n"
     ]
    },
    {
     "name": "stdout",
     "output_type": "stream",
     "text": [
      ".......\n",
      "Duration: 0:00:00.633069\n"
     ]
    }
   ],
   "source": [
    "start_time = datetime.now() # time code execution\n",
    "\n",
    "fname = '../data/processed/sequences/hmovTest.tiff'\n",
    "test, test_meta = load_tiffs_into_array(fname, fps, scene_dur)\n",
    "\n",
    "print('\\nDuration: {}'.format(datetime.now() - start_time))"
   ]
  },
  {
   "cell_type": "code",
   "execution_count": 4,
   "metadata": {},
   "outputs": [
    {
     "data": {
      "image/png": "[encoded data removed]",
      "text/plain": [
       "<Figure size 432x288 with 10 Axes>"
      ]
     },
     "metadata": {
      "needs_background": "light"
     },
     "output_type": "display_data"
    }
   ],
   "source": [
    "# Show some random image frames\n",
    "rand_ind = np.random.choice(test_meta['n_frames'],10,replace=False)\n",
    "for i in range(10):\n",
    "    plt.subplot(2,5,i+1)\n",
    "    plt.imshow(test[rand_ind[i],:,:], vmin=0, vmax=255, cmap='gray')\n",
    "    plt.grid(False)\n",
    "plt.tight_layout()\n",
    "plt.show()"
   ]
  },
  {
   "cell_type": "markdown",
   "metadata": {},
   "source": [
    "## Write test video file"
   ]
  },
  {
   "cell_type": "code",
   "execution_count": 10,
   "metadata": {},
   "outputs": [],
   "source": [
    "fourcc = cv2.VideoWriter_fourcc(*'MJPG') # four-char code for desired codec (MJPG ok for avi on Mac)\n",
    "writer = cv2.VideoWriter('../data/processed/sequences/hmovTest.avi', fourcc, fps, \n",
    "                         (test_meta['width'], test_meta['height']), False)\n",
    "\n",
    "for i in range(test_meta['n_frames']):\n",
    "    writer.write(test[i,:,:])\n",
    "\n",
    "writer.release() "
   ]
  },
  {
   "cell_type": "markdown",
   "metadata": {},
   "source": [
    "## Load training movie scene sequence"
   ]
  },
  {
   "cell_type": "code",
   "execution_count": 5,
   "metadata": {},
   "outputs": [
    {
     "name": "stdout",
     "output_type": "stream",
     "text": [
      "n_frames = 43200\n",
      "width = 424\n",
      "height = 264\n",
      "number of scenes = 288\n",
      "frames per scene = 150\n",
      "\n",
      "Putting tiff stack into array:\n",
      "....................................\n",
      "....................................\n",
      "....................................\n",
      "....................................\n",
      "....................................\n",
      "....................................\n",
      "....................................\n",
      "....................................\n",
      "\n",
      "Duration: 0:00:17.756665\n"
     ]
    }
   ],
   "source": [
    "start_time = datetime.now() # time code execution\n",
    "\n",
    "fname = '../data/processed/sequences/hmovTrain.tiff'\n",
    "train, train_meta = load_tiffs_into_array(fname, fps, scene_dur)\n",
    "\n",
    "print('\\nDuration: {}'.format(datetime.now() - start_time))"
   ]
  },
  {
   "cell_type": "markdown",
   "metadata": {},
   "source": [
    "## Split sequence into scene snippets (5 s)"
   ]
  },
  {
   "cell_type": "code",
   "execution_count": 6,
   "metadata": {},
   "outputs": [
    {
     "name": "stdout",
     "output_type": "stream",
     "text": [
      "288 scenes, 150 frames per scene, 264x424 frames\n"
     ]
    }
   ],
   "source": [
    "train_scenes = np.reshape(train, (train_meta['n_scenes'], train_meta['fp_scene'],\n",
    "                                  train_meta['height'], train_meta['width']))\n",
    "print('%i scenes, %i frames per scene, %ix%i frames' % train_scenes.shape)"
   ]
  },
  {
   "cell_type": "markdown",
   "metadata": {},
   "source": [
    "## Get random sequence index file"
   ]
  },
  {
   "cell_type": "code",
   "execution_count": 7,
   "metadata": {},
   "outputs": [
    {
     "name": "stdout",
     "output_type": "stream",
     "text": [
      "Random sequence index for 288 scenes and 10 sequences.\n",
      "Example scene sequence:\n",
      " [131 253 146 283 100 251 193  10  90 160 181   5  97 194  53  49   9 285\n",
      "  19 147 123  51 166 269  60 138 271 162 101 119 141  50 185 273 281 228\n",
      " 152 188  77  40 261 257 226 216   0 109 144 219  94  65  89 167  30 220\n",
      "  47 174 108  64  20 112 159 263 164 148   8  16  48 110 124 264  55 145\n",
      "  84 179  78  13 177 178 149  32 158  95 128 195 196  27  31 125 153 114\n",
      " 106 238 105 250 135 134 270 272 187 274 243 278  56 232 155 224 258 190\n",
      " 116  68  33  72  93 150 129 204 275 121 236  34  71  63  98 222 165 210\n",
      " 266 230  44 282   3  57 202 239 248 214  92 143 186 127 191 245  38 111\n",
      " 247  82  52 122  81 205 173 212  25  91 102 163 240 172 256 201 211  87\n",
      "  18 237  14  45 115 198 267 184  29   1 118 218 286   7  73 234 254  99\n",
      " 284 157  85 132  35 180 136  39 208 252 227 223  36  70   6 209 197  11\n",
      " 140 262  23 260 176 117 221  74 171 233 130 235  26 113  79  15 161 103\n",
      " 246  61 276 168 151 249 229 182 241 231 217 170 255 213 175 268 156 200\n",
      " 169 280 183 265   2  76 192 287 189  28  88 225 126  22 199 215  46  58\n",
      "  37  41  21 203 277  59  67 242 142  54  43  66 154 120  62 133 104 139\n",
      "  69  17 107 206  96  12  86  80 244 279   4 259  75  42 137 207  83  24]\n"
     ]
    }
   ],
   "source": [
    "np.random.seed(345) # fix random seed\n",
    "\n",
    "random = np.tile(np.arange(train_meta['n_scenes']), (n_rnd_seqs,1)).T\n",
    "for i in range(random.shape[1]):\n",
    "    random[:,i] = np.random.permutation(random[:,i])\n",
    "random.shape\n",
    "\n",
    "# Save file\n",
    "np.savetxt('../data/processed/meta/RandomSequences.txt', random, fmt='%u', delimiter='\\t')\n",
    "# random = np.loadtxt('../data/processed/RandomSequences.txt', dtype=np.int, delimiter='\\t')\n",
    "\n",
    "print('Random sequence index for %i scenes and %i sequences.' % random.shape)\n",
    "print('Example scene sequence:\\n', random[:,0])"
   ]
  },
  {
   "cell_type": "markdown",
   "metadata": {},
   "source": [
    "## Write training scene sequence video files"
   ]
  },
  {
   "cell_type": "code",
   "execution_count": null,
   "metadata": {},
   "outputs": [
    {
     "name": "stdout",
     "output_type": "stream",
     "text": [
      "Creating 10 random sequences.\n",
      "Creating random sequence 1/10:\n",
      " Splitting training sequence into 8 parts:\n",
      "  Making video file: ../data/processed/sequences/hmovTrain_01-1.avi\n",
      "  Making video file: ../data/processed/sequences/hmovTrain_01-2.avi\n",
      "  Making video file: ../data/processed/sequences/hmovTrain_01-3.avi\n",
      "  Making video file: ../data/processed/sequences/hmovTrain_01-4.avi\n",
      "  Making video file: ../data/processed/sequences/hmovTrain_01-5.avi\n",
      "  Making video file: ../data/processed/sequences/hmovTrain_01-6.avi\n",
      "  Making video file: ../data/processed/sequences/hmovTrain_01-7.avi\n",
      "  Making video file: ../data/processed/sequences/hmovTrain_01-8.avi\n",
      "Creating random sequence 2/10:\n",
      " Splitting training sequence into 8 parts:\n",
      "  Making video file: ../data/processed/sequences/hmovTrain_02-1.avi\n",
      "  Making video file: ../data/processed/sequences/hmovTrain_02-2.avi\n",
      "  Making video file: ../data/processed/sequences/hmovTrain_02-3.avi\n",
      "  Making video file: ../data/processed/sequences/hmovTrain_02-4.avi\n",
      "  Making video file: ../data/processed/sequences/hmovTrain_02-5.avi\n",
      "  Making video file: ../data/processed/sequences/hmovTrain_02-6.avi\n",
      "  Making video file: ../data/processed/sequences/hmovTrain_02-7.avi\n",
      "  Making video file: ../data/processed/sequences/hmovTrain_02-8.avi\n",
      "Creating random sequence 3/10:\n",
      " Splitting training sequence into 8 parts:\n",
      "  Making video file: ../data/processed/sequences/hmovTrain_03-1.avi\n",
      "  Making video file: ../data/processed/sequences/hmovTrain_03-2.avi\n",
      "  Making video file: ../data/processed/sequences/hmovTrain_03-3.avi\n",
      "  Making video file: ../data/processed/sequences/hmovTrain_03-4.avi\n",
      "  Making video file: ../data/processed/sequences/hmovTrain_03-5.avi\n",
      "  Making video file: ../data/processed/sequences/hmovTrain_03-6.avi\n",
      "  Making video file: ../data/processed/sequences/hmovTrain_03-7.avi\n",
      "  Making video file: ../data/processed/sequences/hmovTrain_03-8.avi\n",
      "Creating random sequence 4/10:\n",
      " Splitting training sequence into 8 parts:\n",
      "  Making video file: ../data/processed/sequences/hmovTrain_04-1.avi\n",
      "  Making video file: ../data/processed/sequences/hmovTrain_04-2.avi\n",
      "  Making video file: ../data/processed/sequences/hmovTrain_04-3.avi\n",
      "  Making video file: ../data/processed/sequences/hmovTrain_04-4.avi\n",
      "  Making video file: ../data/processed/sequences/hmovTrain_04-5.avi\n",
      "  Making video file: ../data/processed/sequences/hmovTrain_04-6.avi\n",
      "  Making video file: ../data/processed/sequences/hmovTrain_04-7.avi\n",
      "  Making video file: ../data/processed/sequences/hmovTrain_04-8.avi\n",
      "Creating random sequence 5/10:\n",
      " Splitting training sequence into 8 parts:\n",
      "  Making video file: ../data/processed/sequences/hmovTrain_05-1.avi\n",
      "  Making video file: ../data/processed/sequences/hmovTrain_05-2.avi\n",
      "  Making video file: ../data/processed/sequences/hmovTrain_05-3.avi\n",
      "  Making video file: ../data/processed/sequences/hmovTrain_05-4.avi\n",
      "  Making video file: ../data/processed/sequences/hmovTrain_05-5.avi\n",
      "  Making video file: ../data/processed/sequences/hmovTrain_05-6.avi\n",
      "  Making video file: ../data/processed/sequences/hmovTrain_05-7.avi\n"
     ]
    }
   ],
   "source": [
    "# Write one file for each random sequence, split into n parts.\n",
    "\n",
    "start_time = datetime.now() # time code execution\n",
    "\n",
    "print('Creating %i random sequences.' %n_rnd_seqs)\n",
    "for i in range(random.shape[1]):\n",
    "    print('Creating random sequence %i/%i:' %(i+1, n_rnd_seqs))\n",
    "    train_scenes_rand = train_scenes[list(random[:,i]),:,:,:]\n",
    "    train_scenes_rand = np.reshape(train_scenes_rand, \n",
    "                                   (train_meta['n_frames'],train_meta['height'],train_meta['width']))\n",
    "    \n",
    "    # Split into parts\n",
    "    parts = np.array_split(train_scenes_rand, n_parts)\n",
    "    print(' Splitting training sequence into %i parts:' %n_parts)\n",
    "        \n",
    "    for j, part in enumerate(parts):\n",
    "        # Make video (of each part)\n",
    "        fname = '../data/processed/sequences/' + 'hmovTrain_' + str(i+1).zfill(2) + '-' + str(j+1) + '.avi'\n",
    "        print('  Making video file:', fname)\n",
    "        fourcc = cv2.VideoWriter_fourcc(*'MJPG') # four-char code for codec (MJPG ok for avi on Mac)\n",
    "        writer = cv2.VideoWriter(fname, fourcc, fps, \n",
    "                                 (train_meta['width'], train_meta['height']), False)\n",
    "\n",
    "        for frame in part:\n",
    "            writer.write(frame)\n",
    "\n",
    "        writer.release()\n",
    "\n",
    "print('Duration: {}'.format(datetime.now() - start_time))"
   ]
  },
  {
   "cell_type": "markdown",
   "metadata": {},
   "source": [
    "## Save single scene files"
   ]
  },
  {
   "cell_type": "code",
   "execution_count": 10,
   "metadata": {},
   "outputs": [],
   "source": [
    "# Create single scene subdirectory (unless it already exists)\n",
    "try:\n",
    "    os.makedirs(\"../data/processed/scenes/\")\n",
    "except FileExistsError:\n",
    "    print('Directory ../data/processed/scenes/ already exists!') # directory already exists\n",
    "    pass"
   ]
  },
  {
   "cell_type": "markdown",
   "metadata": {},
   "source": [
    "### Split test sequence into scene snippets (5 s)"
   ]
  },
  {
   "cell_type": "code",
   "execution_count": 11,
   "metadata": {},
   "outputs": [
    {
     "name": "stdout",
     "output_type": "stream",
     "text": [
      "8 scenes, 150 frames per scene, 264x424 frames\n"
     ]
    }
   ],
   "source": [
    "test_scenes = np.reshape(test, (test_meta['n_scenes'], test_meta['fp_scene'],\n",
    "                                  test_meta['height'], test_meta['width']))\n",
    "print('%i scenes, %i frames per scene, %ix%i frames' % test_scenes.shape)"
   ]
  },
  {
   "cell_type": "markdown",
   "metadata": {},
   "source": [
    "### Write single test scene video files"
   ]
  },
  {
   "cell_type": "code",
   "execution_count": 12,
   "metadata": {},
   "outputs": [
    {
     "name": "stdout",
     "output_type": "stream",
     "text": [
      "Writing 8 test scene files.\n",
      "  Making video file: ../data/processed/scenes/hmovTest_v3_424x264_scene-001.avi\n",
      "  Making video file: ../data/processed/scenes/hmovTest_v3_424x264_scene-002.avi\n",
      "  Making video file: ../data/processed/scenes/hmovTest_v3_424x264_scene-003.avi\n",
      "  Making video file: ../data/processed/scenes/hmovTest_v3_424x264_scene-004.avi\n",
      "  Making video file: ../data/processed/scenes/hmovTest_v3_424x264_scene-005.avi\n",
      "  Making video file: ../data/processed/scenes/hmovTest_v3_424x264_scene-006.avi\n",
      "  Making video file: ../data/processed/scenes/hmovTest_v3_424x264_scene-007.avi\n",
      "  Making video file: ../data/processed/scenes/hmovTest_v3_424x264_scene-008.avi\n",
      "Duration: 0:00:00.823343\n"
     ]
    }
   ],
   "source": [
    "start_time = datetime.now() # time code execution\n",
    "\n",
    "print('Writing %i test scene files.' % test_scenes.shape[0])\n",
    "for i, scene in enumerate(test_scenes):\n",
    "    # Make video (of each scene)\n",
    "    fname = '../data/processed/scenes/' + 'hmovTest_v' + str(version) \\\n",
    "        + '_' + str(frame_shape[0]) + 'x' + str(frame_shape[1]) + '_scene-' + str(i+1).zfill(3) + '.avi'\n",
    "    print('  Making video file:', fname)\n",
    "    fourcc = cv2.VideoWriter_fourcc(*'MJPG') # four-char code for codec (MJPG ok for avi on Mac)\n",
    "    writer = cv2.VideoWriter(fname, fourcc, fps, \n",
    "                             (train_meta['width'], train_meta['height']), False)\n",
    "\n",
    "    for frame in scene:\n",
    "        writer.write(frame)\n",
    "\n",
    "    writer.release()\n",
    "\n",
    "print('Duration: {}'.format(datetime.now() - start_time))"
   ]
  },
  {
   "cell_type": "markdown",
   "metadata": {},
   "source": [
    "### Write single training scene video files (have already been split into single scenes above)"
   ]
  },
  {
   "cell_type": "code",
   "execution_count": 13,
   "metadata": {},
   "outputs": [
    {
     "name": "stdout",
     "output_type": "stream",
     "text": [
      "Writing 288 test scene files.\n",
      "  Making video file: ../data/processed/scenes/hmovTrain_v3_424x264_scene-001.avi\n",
      "  Making video file: ../data/processed/scenes/hmovTrain_v3_424x264_scene-002.avi\n",
      "  Making video file: ../data/processed/scenes/hmovTrain_v3_424x264_scene-003.avi\n",
      "  Making video file: ../data/processed/scenes/hmovTrain_v3_424x264_scene-004.avi\n",
      "  Making video file: ../data/processed/scenes/hmovTrain_v3_424x264_scene-005.avi\n",
      "  Making video file: ../data/processed/scenes/hmovTrain_v3_424x264_scene-006.avi\n",
      "  Making video file: ../data/processed/scenes/hmovTrain_v3_424x264_scene-007.avi\n",
      "  Making video file: ../data/processed/scenes/hmovTrain_v3_424x264_scene-008.avi\n",
      "  Making video file: ../data/processed/scenes/hmovTrain_v3_424x264_scene-009.avi\n",
      "  Making video file: ../data/processed/scenes/hmovTrain_v3_424x264_scene-010.avi\n",
      "  Making video file: ../data/processed/scenes/hmovTrain_v3_424x264_scene-011.avi\n",
      "  Making video file: ../data/processed/scenes/hmovTrain_v3_424x264_scene-012.avi\n",
      "  Making video file: ../data/processed/scenes/hmovTrain_v3_424x264_scene-013.avi\n",
      "  Making video file: ../data/processed/scenes/hmovTrain_v3_424x264_scene-014.avi\n",
      "  Making video file: ../data/processed/scenes/hmovTrain_v3_424x264_scene-015.avi\n",
      "  Making video file: ../data/processed/scenes/hmovTrain_v3_424x264_scene-016.avi\n",
      "  Making video file: ../data/processed/scenes/hmovTrain_v3_424x264_scene-017.avi\n",
      "  Making video file: ../data/processed/scenes/hmovTrain_v3_424x264_scene-018.avi\n",
      "  Making video file: ../data/processed/scenes/hmovTrain_v3_424x264_scene-019.avi\n",
      "  Making video file: ../data/processed/scenes/hmovTrain_v3_424x264_scene-020.avi\n",
      "  Making video file: ../data/processed/scenes/hmovTrain_v3_424x264_scene-021.avi\n",
      "  Making video file: ../data/processed/scenes/hmovTrain_v3_424x264_scene-022.avi\n",
      "  Making video file: ../data/processed/scenes/hmovTrain_v3_424x264_scene-023.avi\n",
      "  Making video file: ../data/processed/scenes/hmovTrain_v3_424x264_scene-024.avi\n",
      "  Making video file: ../data/processed/scenes/hmovTrain_v3_424x264_scene-025.avi\n",
      "  Making video file: ../data/processed/scenes/hmovTrain_v3_424x264_scene-026.avi\n",
      "  Making video file: ../data/processed/scenes/hmovTrain_v3_424x264_scene-027.avi\n",
      "  Making video file: ../data/processed/scenes/hmovTrain_v3_424x264_scene-028.avi\n",
      "  Making video file: ../data/processed/scenes/hmovTrain_v3_424x264_scene-029.avi\n",
      "  Making video file: ../data/processed/scenes/hmovTrain_v3_424x264_scene-030.avi\n",
      "  Making video file: ../data/processed/scenes/hmovTrain_v3_424x264_scene-031.avi\n",
      "  Making video file: ../data/processed/scenes/hmovTrain_v3_424x264_scene-032.avi\n",
      "  Making video file: ../data/processed/scenes/hmovTrain_v3_424x264_scene-033.avi\n",
      "  Making video file: ../data/processed/scenes/hmovTrain_v3_424x264_scene-034.avi\n",
      "  Making video file: ../data/processed/scenes/hmovTrain_v3_424x264_scene-035.avi\n",
      "  Making video file: ../data/processed/scenes/hmovTrain_v3_424x264_scene-036.avi\n",
      "  Making video file: ../data/processed/scenes/hmovTrain_v3_424x264_scene-037.avi\n",
      "  Making video file: ../data/processed/scenes/hmovTrain_v3_424x264_scene-038.avi\n",
      "  Making video file: ../data/processed/scenes/hmovTrain_v3_424x264_scene-039.avi\n",
      "  Making video file: ../data/processed/scenes/hmovTrain_v3_424x264_scene-040.avi\n",
      "  Making video file: ../data/processed/scenes/hmovTrain_v3_424x264_scene-041.avi\n",
      "  Making video file: ../data/processed/scenes/hmovTrain_v3_424x264_scene-042.avi\n",
      "  Making video file: ../data/processed/scenes/hmovTrain_v3_424x264_scene-043.avi\n",
      "  Making video file: ../data/processed/scenes/hmovTrain_v3_424x264_scene-044.avi\n",
      "  Making video file: ../data/processed/scenes/hmovTrain_v3_424x264_scene-045.avi\n",
      "  Making video file: ../data/processed/scenes/hmovTrain_v3_424x264_scene-046.avi\n",
      "  Making video file: ../data/processed/scenes/hmovTrain_v3_424x264_scene-047.avi\n",
      "  Making video file: ../data/processed/scenes/hmovTrain_v3_424x264_scene-048.avi\n",
      "  Making video file: ../data/processed/scenes/hmovTrain_v3_424x264_scene-049.avi\n",
      "  Making video file: ../data/processed/scenes/hmovTrain_v3_424x264_scene-050.avi\n",
      "  Making video file: ../data/processed/scenes/hmovTrain_v3_424x264_scene-051.avi\n",
      "  Making video file: ../data/processed/scenes/hmovTrain_v3_424x264_scene-052.avi\n",
      "  Making video file: ../data/processed/scenes/hmovTrain_v3_424x264_scene-053.avi\n",
      "  Making video file: ../data/processed/scenes/hmovTrain_v3_424x264_scene-054.avi\n",
      "  Making video file: ../data/processed/scenes/hmovTrain_v3_424x264_scene-055.avi\n",
      "  Making video file: ../data/processed/scenes/hmovTrain_v3_424x264_scene-056.avi\n",
      "  Making video file: ../data/processed/scenes/hmovTrain_v3_424x264_scene-057.avi\n",
      "  Making video file: ../data/processed/scenes/hmovTrain_v3_424x264_scene-058.avi\n",
      "  Making video file: ../data/processed/scenes/hmovTrain_v3_424x264_scene-059.avi\n",
      "  Making video file: ../data/processed/scenes/hmovTrain_v3_424x264_scene-060.avi\n",
      "  Making video file: ../data/processed/scenes/hmovTrain_v3_424x264_scene-061.avi\n",
      "  Making video file: ../data/processed/scenes/hmovTrain_v3_424x264_scene-062.avi\n",
      "  Making video file: ../data/processed/scenes/hmovTrain_v3_424x264_scene-063.avi\n",
      "  Making video file: ../data/processed/scenes/hmovTrain_v3_424x264_scene-064.avi\n",
      "  Making video file: ../data/processed/scenes/hmovTrain_v3_424x264_scene-065.avi\n",
      "  Making video file: ../data/processed/scenes/hmovTrain_v3_424x264_scene-066.avi\n",
      "  Making video file: ../data/processed/scenes/hmovTrain_v3_424x264_scene-067.avi\n",
      "  Making video file: ../data/processed/scenes/hmovTrain_v3_424x264_scene-068.avi\n",
      "  Making video file: ../data/processed/scenes/hmovTrain_v3_424x264_scene-069.avi\n",
      "  Making video file: ../data/processed/scenes/hmovTrain_v3_424x264_scene-070.avi\n",
      "  Making video file: ../data/processed/scenes/hmovTrain_v3_424x264_scene-071.avi\n",
      "  Making video file: ../data/processed/scenes/hmovTrain_v3_424x264_scene-072.avi\n",
      "  Making video file: ../data/processed/scenes/hmovTrain_v3_424x264_scene-073.avi\n",
      "  Making video file: ../data/processed/scenes/hmovTrain_v3_424x264_scene-074.avi\n",
      "  Making video file: ../data/processed/scenes/hmovTrain_v3_424x264_scene-075.avi\n",
      "  Making video file: ../data/processed/scenes/hmovTrain_v3_424x264_scene-076.avi\n",
      "  Making video file: ../data/processed/scenes/hmovTrain_v3_424x264_scene-077.avi\n",
      "  Making video file: ../data/processed/scenes/hmovTrain_v3_424x264_scene-078.avi\n",
      "  Making video file: ../data/processed/scenes/hmovTrain_v3_424x264_scene-079.avi\n",
      "  Making video file: ../data/processed/scenes/hmovTrain_v3_424x264_scene-080.avi\n",
      "  Making video file: ../data/processed/scenes/hmovTrain_v3_424x264_scene-081.avi\n",
      "  Making video file: ../data/processed/scenes/hmovTrain_v3_424x264_scene-082.avi\n",
      "  Making video file: ../data/processed/scenes/hmovTrain_v3_424x264_scene-083.avi\n",
      "  Making video file: ../data/processed/scenes/hmovTrain_v3_424x264_scene-084.avi\n",
      "  Making video file: ../data/processed/scenes/hmovTrain_v3_424x264_scene-085.avi\n",
      "  Making video file: ../data/processed/scenes/hmovTrain_v3_424x264_scene-086.avi\n",
      "  Making video file: ../data/processed/scenes/hmovTrain_v3_424x264_scene-087.avi\n",
      "  Making video file: ../data/processed/scenes/hmovTrain_v3_424x264_scene-088.avi\n",
      "  Making video file: ../data/processed/scenes/hmovTrain_v3_424x264_scene-089.avi\n",
      "  Making video file: ../data/processed/scenes/hmovTrain_v3_424x264_scene-090.avi\n",
      "  Making video file: ../data/processed/scenes/hmovTrain_v3_424x264_scene-091.avi\n",
      "  Making video file: ../data/processed/scenes/hmovTrain_v3_424x264_scene-092.avi\n",
      "  Making video file: ../data/processed/scenes/hmovTrain_v3_424x264_scene-093.avi\n",
      "  Making video file: ../data/processed/scenes/hmovTrain_v3_424x264_scene-094.avi\n",
      "  Making video file: ../data/processed/scenes/hmovTrain_v3_424x264_scene-095.avi\n",
      "  Making video file: ../data/processed/scenes/hmovTrain_v3_424x264_scene-096.avi\n",
      "  Making video file: ../data/processed/scenes/hmovTrain_v3_424x264_scene-097.avi\n",
      "  Making video file: ../data/processed/scenes/hmovTrain_v3_424x264_scene-098.avi\n",
      "  Making video file: ../data/processed/scenes/hmovTrain_v3_424x264_scene-099.avi\n",
      "  Making video file: ../data/processed/scenes/hmovTrain_v3_424x264_scene-100.avi\n",
      "  Making video file: ../data/processed/scenes/hmovTrain_v3_424x264_scene-101.avi\n",
      "  Making video file: ../data/processed/scenes/hmovTrain_v3_424x264_scene-102.avi\n",
      "  Making video file: ../data/processed/scenes/hmovTrain_v3_424x264_scene-103.avi\n",
      "  Making video file: ../data/processed/scenes/hmovTrain_v3_424x264_scene-104.avi\n",
      "  Making video file: ../data/processed/scenes/hmovTrain_v3_424x264_scene-105.avi\n",
      "  Making video file: ../data/processed/scenes/hmovTrain_v3_424x264_scene-106.avi\n",
      "  Making video file: ../data/processed/scenes/hmovTrain_v3_424x264_scene-107.avi\n",
      "  Making video file: ../data/processed/scenes/hmovTrain_v3_424x264_scene-108.avi\n",
      "  Making video file: ../data/processed/scenes/hmovTrain_v3_424x264_scene-109.avi\n",
      "  Making video file: ../data/processed/scenes/hmovTrain_v3_424x264_scene-110.avi\n",
      "  Making video file: ../data/processed/scenes/hmovTrain_v3_424x264_scene-111.avi\n",
      "  Making video file: ../data/processed/scenes/hmovTrain_v3_424x264_scene-112.avi\n",
      "  Making video file: ../data/processed/scenes/hmovTrain_v3_424x264_scene-113.avi\n",
      "  Making video file: ../data/processed/scenes/hmovTrain_v3_424x264_scene-114.avi\n",
      "  Making video file: ../data/processed/scenes/hmovTrain_v3_424x264_scene-115.avi\n",
      "  Making video file: ../data/processed/scenes/hmovTrain_v3_424x264_scene-116.avi\n",
      "  Making video file: ../data/processed/scenes/hmovTrain_v3_424x264_scene-117.avi\n",
      "  Making video file: ../data/processed/scenes/hmovTrain_v3_424x264_scene-118.avi\n",
      "  Making video file: ../data/processed/scenes/hmovTrain_v3_424x264_scene-119.avi\n",
      "  Making video file: ../data/processed/scenes/hmovTrain_v3_424x264_scene-120.avi\n",
      "  Making video file: ../data/processed/scenes/hmovTrain_v3_424x264_scene-121.avi\n",
      "  Making video file: ../data/processed/scenes/hmovTrain_v3_424x264_scene-122.avi\n",
      "  Making video file: ../data/processed/scenes/hmovTrain_v3_424x264_scene-123.avi\n",
      "  Making video file: ../data/processed/scenes/hmovTrain_v3_424x264_scene-124.avi\n",
      "  Making video file: ../data/processed/scenes/hmovTrain_v3_424x264_scene-125.avi\n",
      "  Making video file: ../data/processed/scenes/hmovTrain_v3_424x264_scene-126.avi\n",
      "  Making video file: ../data/processed/scenes/hmovTrain_v3_424x264_scene-127.avi\n",
      "  Making video file: ../data/processed/scenes/hmovTrain_v3_424x264_scene-128.avi\n",
      "  Making video file: ../data/processed/scenes/hmovTrain_v3_424x264_scene-129.avi\n",
      "  Making video file: ../data/processed/scenes/hmovTrain_v3_424x264_scene-130.avi\n",
      "  Making video file: ../data/processed/scenes/hmovTrain_v3_424x264_scene-131.avi\n",
      "  Making video file: ../data/processed/scenes/hmovTrain_v3_424x264_scene-132.avi\n",
      "  Making video file: ../data/processed/scenes/hmovTrain_v3_424x264_scene-133.avi\n",
      "  Making video file: ../data/processed/scenes/hmovTrain_v3_424x264_scene-134.avi\n",
      "  Making video file: ../data/processed/scenes/hmovTrain_v3_424x264_scene-135.avi\n",
      "  Making video file: ../data/processed/scenes/hmovTrain_v3_424x264_scene-136.avi\n",
      "  Making video file: ../data/processed/scenes/hmovTrain_v3_424x264_scene-137.avi\n",
      "  Making video file: ../data/processed/scenes/hmovTrain_v3_424x264_scene-138.avi\n",
      "  Making video file: ../data/processed/scenes/hmovTrain_v3_424x264_scene-139.avi\n",
      "  Making video file: ../data/processed/scenes/hmovTrain_v3_424x264_scene-140.avi\n",
      "  Making video file: ../data/processed/scenes/hmovTrain_v3_424x264_scene-141.avi\n",
      "  Making video file: ../data/processed/scenes/hmovTrain_v3_424x264_scene-142.avi\n",
      "  Making video file: ../data/processed/scenes/hmovTrain_v3_424x264_scene-143.avi\n",
      "  Making video file: ../data/processed/scenes/hmovTrain_v3_424x264_scene-144.avi\n",
      "  Making video file: ../data/processed/scenes/hmovTrain_v3_424x264_scene-145.avi\n",
      "  Making video file: ../data/processed/scenes/hmovTrain_v3_424x264_scene-146.avi\n",
      "  Making video file: ../data/processed/scenes/hmovTrain_v3_424x264_scene-147.avi\n",
      "  Making video file: ../data/processed/scenes/hmovTrain_v3_424x264_scene-148.avi\n",
      "  Making video file: ../data/processed/scenes/hmovTrain_v3_424x264_scene-149.avi\n",
      "  Making video file: ../data/processed/scenes/hmovTrain_v3_424x264_scene-150.avi\n",
      "  Making video file: ../data/processed/scenes/hmovTrain_v3_424x264_scene-151.avi\n",
      "  Making video file: ../data/processed/scenes/hmovTrain_v3_424x264_scene-152.avi\n",
      "  Making video file: ../data/processed/scenes/hmovTrain_v3_424x264_scene-153.avi\n",
      "  Making video file: ../data/processed/scenes/hmovTrain_v3_424x264_scene-154.avi\n",
      "  Making video file: ../data/processed/scenes/hmovTrain_v3_424x264_scene-155.avi\n",
      "  Making video file: ../data/processed/scenes/hmovTrain_v3_424x264_scene-156.avi\n",
      "  Making video file: ../data/processed/scenes/hmovTrain_v3_424x264_scene-157.avi\n",
      "  Making video file: ../data/processed/scenes/hmovTrain_v3_424x264_scene-158.avi\n",
      "  Making video file: ../data/processed/scenes/hmovTrain_v3_424x264_scene-159.avi\n",
      "  Making video file: ../data/processed/scenes/hmovTrain_v3_424x264_scene-160.avi\n",
      "  Making video file: ../data/processed/scenes/hmovTrain_v3_424x264_scene-161.avi\n",
      "  Making video file: ../data/processed/scenes/hmovTrain_v3_424x264_scene-162.avi\n",
      "  Making video file: ../data/processed/scenes/hmovTrain_v3_424x264_scene-163.avi\n",
      "  Making video file: ../data/processed/scenes/hmovTrain_v3_424x264_scene-164.avi\n",
      "  Making video file: ../data/processed/scenes/hmovTrain_v3_424x264_scene-165.avi\n",
      "  Making video file: ../data/processed/scenes/hmovTrain_v3_424x264_scene-166.avi\n",
      "  Making video file: ../data/processed/scenes/hmovTrain_v3_424x264_scene-167.avi\n",
      "  Making video file: ../data/processed/scenes/hmovTrain_v3_424x264_scene-168.avi\n",
      "  Making video file: ../data/processed/scenes/hmovTrain_v3_424x264_scene-169.avi\n",
      "  Making video file: ../data/processed/scenes/hmovTrain_v3_424x264_scene-170.avi\n",
      "  Making video file: ../data/processed/scenes/hmovTrain_v3_424x264_scene-171.avi\n",
      "  Making video file: ../data/processed/scenes/hmovTrain_v3_424x264_scene-172.avi\n",
      "  Making video file: ../data/processed/scenes/hmovTrain_v3_424x264_scene-173.avi\n",
      "  Making video file: ../data/processed/scenes/hmovTrain_v3_424x264_scene-174.avi\n",
      "  Making video file: ../data/processed/scenes/hmovTrain_v3_424x264_scene-175.avi\n",
      "  Making video file: ../data/processed/scenes/hmovTrain_v3_424x264_scene-176.avi\n",
      "  Making video file: ../data/processed/scenes/hmovTrain_v3_424x264_scene-177.avi\n",
      "  Making video file: ../data/processed/scenes/hmovTrain_v3_424x264_scene-178.avi\n",
      "  Making video file: ../data/processed/scenes/hmovTrain_v3_424x264_scene-179.avi\n",
      "  Making video file: ../data/processed/scenes/hmovTrain_v3_424x264_scene-180.avi\n",
      "  Making video file: ../data/processed/scenes/hmovTrain_v3_424x264_scene-181.avi\n",
      "  Making video file: ../data/processed/scenes/hmovTrain_v3_424x264_scene-182.avi\n",
      "  Making video file: ../data/processed/scenes/hmovTrain_v3_424x264_scene-183.avi\n",
      "  Making video file: ../data/processed/scenes/hmovTrain_v3_424x264_scene-184.avi\n",
      "  Making video file: ../data/processed/scenes/hmovTrain_v3_424x264_scene-185.avi\n",
      "  Making video file: ../data/processed/scenes/hmovTrain_v3_424x264_scene-186.avi\n",
      "  Making video file: ../data/processed/scenes/hmovTrain_v3_424x264_scene-187.avi\n",
      "  Making video file: ../data/processed/scenes/hmovTrain_v3_424x264_scene-188.avi\n",
      "  Making video file: ../data/processed/scenes/hmovTrain_v3_424x264_scene-189.avi\n",
      "  Making video file: ../data/processed/scenes/hmovTrain_v3_424x264_scene-190.avi\n",
      "  Making video file: ../data/processed/scenes/hmovTrain_v3_424x264_scene-191.avi\n",
      "  Making video file: ../data/processed/scenes/hmovTrain_v3_424x264_scene-192.avi\n",
      "  Making video file: ../data/processed/scenes/hmovTrain_v3_424x264_scene-193.avi\n",
      "  Making video file: ../data/processed/scenes/hmovTrain_v3_424x264_scene-194.avi\n",
      "  Making video file: ../data/processed/scenes/hmovTrain_v3_424x264_scene-195.avi\n",
      "  Making video file: ../data/processed/scenes/hmovTrain_v3_424x264_scene-196.avi\n",
      "  Making video file: ../data/processed/scenes/hmovTrain_v3_424x264_scene-197.avi\n",
      "  Making video file: ../data/processed/scenes/hmovTrain_v3_424x264_scene-198.avi\n",
      "  Making video file: ../data/processed/scenes/hmovTrain_v3_424x264_scene-199.avi\n",
      "  Making video file: ../data/processed/scenes/hmovTrain_v3_424x264_scene-200.avi\n",
      "  Making video file: ../data/processed/scenes/hmovTrain_v3_424x264_scene-201.avi\n",
      "  Making video file: ../data/processed/scenes/hmovTrain_v3_424x264_scene-202.avi\n",
      "  Making video file: ../data/processed/scenes/hmovTrain_v3_424x264_scene-203.avi\n",
      "  Making video file: ../data/processed/scenes/hmovTrain_v3_424x264_scene-204.avi\n",
      "  Making video file: ../data/processed/scenes/hmovTrain_v3_424x264_scene-205.avi\n",
      "  Making video file: ../data/processed/scenes/hmovTrain_v3_424x264_scene-206.avi\n",
      "  Making video file: ../data/processed/scenes/hmovTrain_v3_424x264_scene-207.avi\n",
      "  Making video file: ../data/processed/scenes/hmovTrain_v3_424x264_scene-208.avi\n",
      "  Making video file: ../data/processed/scenes/hmovTrain_v3_424x264_scene-209.avi\n",
      "  Making video file: ../data/processed/scenes/hmovTrain_v3_424x264_scene-210.avi\n",
      "  Making video file: ../data/processed/scenes/hmovTrain_v3_424x264_scene-211.avi\n",
      "  Making video file: ../data/processed/scenes/hmovTrain_v3_424x264_scene-212.avi\n",
      "  Making video file: ../data/processed/scenes/hmovTrain_v3_424x264_scene-213.avi\n",
      "  Making video file: ../data/processed/scenes/hmovTrain_v3_424x264_scene-214.avi\n",
      "  Making video file: ../data/processed/scenes/hmovTrain_v3_424x264_scene-215.avi\n",
      "  Making video file: ../data/processed/scenes/hmovTrain_v3_424x264_scene-216.avi\n",
      "  Making video file: ../data/processed/scenes/hmovTrain_v3_424x264_scene-217.avi\n",
      "  Making video file: ../data/processed/scenes/hmovTrain_v3_424x264_scene-218.avi\n",
      "  Making video file: ../data/processed/scenes/hmovTrain_v3_424x264_scene-219.avi\n",
      "  Making video file: ../data/processed/scenes/hmovTrain_v3_424x264_scene-220.avi\n",
      "  Making video file: ../data/processed/scenes/hmovTrain_v3_424x264_scene-221.avi\n",
      "  Making video file: ../data/processed/scenes/hmovTrain_v3_424x264_scene-222.avi\n",
      "  Making video file: ../data/processed/scenes/hmovTrain_v3_424x264_scene-223.avi\n",
      "  Making video file: ../data/processed/scenes/hmovTrain_v3_424x264_scene-224.avi\n",
      "  Making video file: ../data/processed/scenes/hmovTrain_v3_424x264_scene-225.avi\n",
      "  Making video file: ../data/processed/scenes/hmovTrain_v3_424x264_scene-226.avi\n",
      "  Making video file: ../data/processed/scenes/hmovTrain_v3_424x264_scene-227.avi\n",
      "  Making video file: ../data/processed/scenes/hmovTrain_v3_424x264_scene-228.avi\n",
      "  Making video file: ../data/processed/scenes/hmovTrain_v3_424x264_scene-229.avi\n",
      "  Making video file: ../data/processed/scenes/hmovTrain_v3_424x264_scene-230.avi\n",
      "  Making video file: ../data/processed/scenes/hmovTrain_v3_424x264_scene-231.avi\n",
      "  Making video file: ../data/processed/scenes/hmovTrain_v3_424x264_scene-232.avi\n",
      "  Making video file: ../data/processed/scenes/hmovTrain_v3_424x264_scene-233.avi\n",
      "  Making video file: ../data/processed/scenes/hmovTrain_v3_424x264_scene-234.avi\n",
      "  Making video file: ../data/processed/scenes/hmovTrain_v3_424x264_scene-235.avi\n",
      "  Making video file: ../data/processed/scenes/hmovTrain_v3_424x264_scene-236.avi\n",
      "  Making video file: ../data/processed/scenes/hmovTrain_v3_424x264_scene-237.avi\n",
      "  Making video file: ../data/processed/scenes/hmovTrain_v3_424x264_scene-238.avi\n",
      "  Making video file: ../data/processed/scenes/hmovTrain_v3_424x264_scene-239.avi\n",
      "  Making video file: ../data/processed/scenes/hmovTrain_v3_424x264_scene-240.avi\n",
      "  Making video file: ../data/processed/scenes/hmovTrain_v3_424x264_scene-241.avi\n",
      "  Making video file: ../data/processed/scenes/hmovTrain_v3_424x264_scene-242.avi\n",
      "  Making video file: ../data/processed/scenes/hmovTrain_v3_424x264_scene-243.avi\n",
      "  Making video file: ../data/processed/scenes/hmovTrain_v3_424x264_scene-244.avi\n",
      "  Making video file: ../data/processed/scenes/hmovTrain_v3_424x264_scene-245.avi\n",
      "  Making video file: ../data/processed/scenes/hmovTrain_v3_424x264_scene-246.avi\n",
      "  Making video file: ../data/processed/scenes/hmovTrain_v3_424x264_scene-247.avi\n",
      "  Making video file: ../data/processed/scenes/hmovTrain_v3_424x264_scene-248.avi\n",
      "  Making video file: ../data/processed/scenes/hmovTrain_v3_424x264_scene-249.avi\n",
      "  Making video file: ../data/processed/scenes/hmovTrain_v3_424x264_scene-250.avi\n",
      "  Making video file: ../data/processed/scenes/hmovTrain_v3_424x264_scene-251.avi\n",
      "  Making video file: ../data/processed/scenes/hmovTrain_v3_424x264_scene-252.avi\n",
      "  Making video file: ../data/processed/scenes/hmovTrain_v3_424x264_scene-253.avi\n",
      "  Making video file: ../data/processed/scenes/hmovTrain_v3_424x264_scene-254.avi\n",
      "  Making video file: ../data/processed/scenes/hmovTrain_v3_424x264_scene-255.avi\n",
      "  Making video file: ../data/processed/scenes/hmovTrain_v3_424x264_scene-256.avi\n",
      "  Making video file: ../data/processed/scenes/hmovTrain_v3_424x264_scene-257.avi\n",
      "  Making video file: ../data/processed/scenes/hmovTrain_v3_424x264_scene-258.avi\n",
      "  Making video file: ../data/processed/scenes/hmovTrain_v3_424x264_scene-259.avi\n",
      "  Making video file: ../data/processed/scenes/hmovTrain_v3_424x264_scene-260.avi\n",
      "  Making video file: ../data/processed/scenes/hmovTrain_v3_424x264_scene-261.avi\n",
      "  Making video file: ../data/processed/scenes/hmovTrain_v3_424x264_scene-262.avi\n",
      "  Making video file: ../data/processed/scenes/hmovTrain_v3_424x264_scene-263.avi\n",
      "  Making video file: ../data/processed/scenes/hmovTrain_v3_424x264_scene-264.avi\n",
      "  Making video file: ../data/processed/scenes/hmovTrain_v3_424x264_scene-265.avi\n",
      "  Making video file: ../data/processed/scenes/hmovTrain_v3_424x264_scene-266.avi\n",
      "  Making video file: ../data/processed/scenes/hmovTrain_v3_424x264_scene-267.avi\n",
      "  Making video file: ../data/processed/scenes/hmovTrain_v3_424x264_scene-268.avi\n",
      "  Making video file: ../data/processed/scenes/hmovTrain_v3_424x264_scene-269.avi\n",
      "  Making video file: ../data/processed/scenes/hmovTrain_v3_424x264_scene-270.avi\n",
      "  Making video file: ../data/processed/scenes/hmovTrain_v3_424x264_scene-271.avi\n",
      "  Making video file: ../data/processed/scenes/hmovTrain_v3_424x264_scene-272.avi\n",
      "  Making video file: ../data/processed/scenes/hmovTrain_v3_424x264_scene-273.avi\n",
      "  Making video file: ../data/processed/scenes/hmovTrain_v3_424x264_scene-274.avi\n",
      "  Making video file: ../data/processed/scenes/hmovTrain_v3_424x264_scene-275.avi\n",
      "  Making video file: ../data/processed/scenes/hmovTrain_v3_424x264_scene-276.avi\n",
      "  Making video file: ../data/processed/scenes/hmovTrain_v3_424x264_scene-277.avi\n",
      "  Making video file: ../data/processed/scenes/hmovTrain_v3_424x264_scene-278.avi\n",
      "  Making video file: ../data/processed/scenes/hmovTrain_v3_424x264_scene-279.avi\n",
      "  Making video file: ../data/processed/scenes/hmovTrain_v3_424x264_scene-280.avi\n",
      "  Making video file: ../data/processed/scenes/hmovTrain_v3_424x264_scene-281.avi\n",
      "  Making video file: ../data/processed/scenes/hmovTrain_v3_424x264_scene-282.avi\n",
      "  Making video file: ../data/processed/scenes/hmovTrain_v3_424x264_scene-283.avi\n",
      "  Making video file: ../data/processed/scenes/hmovTrain_v3_424x264_scene-284.avi\n",
      "  Making video file: ../data/processed/scenes/hmovTrain_v3_424x264_scene-285.avi\n",
      "  Making video file: ../data/processed/scenes/hmovTrain_v3_424x264_scene-286.avi\n",
      "  Making video file: ../data/processed/scenes/hmovTrain_v3_424x264_scene-287.avi\n",
      "  Making video file: ../data/processed/scenes/hmovTrain_v3_424x264_scene-288.avi\n",
      "Duration: 0:00:37.384507\n"
     ]
    }
   ],
   "source": [
    "start_time = datetime.now() # time code execution\n",
    "\n",
    "print('Writing %i test scene files.' % train_scenes.shape[0])\n",
    "for i, scene in enumerate(train_scenes):\n",
    "    # Make video (of each scene)\n",
    "    fname = '../data/processed/scenes/' + 'hmovTrain_v' + str(version) \\\n",
    "        + '_' + str(frame_shape[0]) + 'x' + str(frame_shape[1]) + '_scene-' + str(i+1).zfill(3) + '.avi'\n",
    "    print('  Making video file:', fname)\n",
    "    fourcc = cv2.VideoWriter_fourcc(*'MJPG') # four-char code for codec (MJPG ok for avi on Mac)\n",
    "    writer = cv2.VideoWriter(fname, fourcc, fps, \n",
    "                             (train_meta['width'], train_meta['height']), False)\n",
    "\n",
    "    for frame in scene:\n",
    "        writer.write(frame)\n",
    "\n",
    "    writer.release()\n",
    "\n",
    "print('Duration: {}'.format(datetime.now() - start_time))"
   ]
  },
  {
   "cell_type": "code",
   "execution_count": null,
   "metadata": {},
   "outputs": [],
   "source": []
  }
 ],
 "metadata": {
  "kernelspec": {
   "display_name": "Python 3",
   "language": "python",
   "name": "python3"
  },
  "language_info": {
   "codemirror_mode": {
    "name": "ipython",
    "version": 3
   },
   "file_extension": ".py",
   "mimetype": "text/x-python",
   "name": "python",
   "nbconvert_exporter": "python",
   "pygments_lexer": "ipython3",
   "version": "3.6.7"
  }
 },
 "nbformat": 4,
 "nbformat_minor": 2
}
